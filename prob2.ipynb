{
 "cells": [
  {
   "cell_type": "code",
   "execution_count": 1,
   "metadata": {
    "collapsed": false
   },
   "outputs": [
    {
     "name": "stderr",
     "output_type": "stream",
     "text": [
      "Loading required package: ggplot2\n",
      "Loading required package: maps\n",
      "Loading required package: ggmap\n",
      "Loading required package: twitteR\n"
     ]
    },
    {
     "name": "stdout",
     "output_type": "stream",
     "text": [
      "[1] \"Using direct authentication\"\n"
     ]
    }
   ],
   "source": [
    "require(ggplot2)\n",
    "require(maps)\n",
    "require(ggmap)\n",
    "require(twitteR)\n",
    "con_k<- 'I0z7AKEkEgo2g1DCsRrG6UR9t'\n",
    "con_s<- 'KUHwwrOxbGU74MlayHJyUdttCWqlbTgWLx9XMxuGowhMYZb8Se'\n",
    "acc_tok<- '399497071-qEpvCQC3OxJxflExP8NNGfmqYcLxvrfBFNPHTw4R'\n",
    "acc_s<-'lHSwVVvytEO87w4i2QsaOjiAkKHudRPRJ8tZ84V3Gywen'\n",
    "\n",
    "setup_twitter_oauth(con_k,con_s,acc_tok,acc_s)"
   ]
  },
  {
   "cell_type": "code",
   "execution_count": 2,
   "metadata": {
    "collapsed": false,
    "scrolled": true
   },
   "outputs": [],
   "source": [
    "n=\"Chicago\" #enter user input city/state/Country    "
   ]
  },
  {
   "cell_type": "code",
   "execution_count": 3,
   "metadata": {
    "collapsed": false
   },
   "outputs": [
    {
     "name": "stderr",
     "output_type": "stream",
     "text": [
      "Information from URL : http://maps.googleapis.com/maps/api/geocode/json?address=Chicago&sensor=false\n"
     ]
    },
    {
     "name": "stdout",
     "output_type": "stream",
     "text": [
      "The top 10 trending topics in  Chicago  are\n",
      "[1] \"#TrumpRally\"\n",
      "[1] \"#HockeyIsForEveryone\"\n",
      "[1] \"#Purdue\"\n",
      "[1] \"#WildThings17\"\n",
      "[1] \"#NationalDrinkWineDay\"\n",
      "[1] \"Lana\"\n",
      "[1] \"Milo\"\n",
      "[1] \"Clyde Stubblefield\"\n",
      "[1] \"Fedor\"\n",
      "[1] \"Eron Harris\"\n"
     ]
    }
   ],
   "source": [
    "lonlat_sample <- as.numeric(geocode(n))  # convert place to cooridates\n",
    "woeid = closestTrendLocations(toString(lonlat_sample[2]),toString(lonlat_sample[1]))  #pass coordinates\n",
    "t1<-getTrends(woeid$woeid) #get trends for woeid\n",
    "i=1\n",
    "cat(\"The top 10 trending topics in \",n,\" are\\n\")\n",
    " while(i < 11){\n",
    "     print(head(t1[i,1])) \n",
    "     i=i+1\n",
    " }\n"
   ]
  },
  {
   "cell_type": "code",
   "execution_count": null,
   "metadata": {
    "collapsed": true
   },
   "outputs": [],
   "source": []
  }
 ],
 "metadata": {
  "kernelspec": {
   "display_name": "R",
   "language": "R",
   "name": "ir"
  },
  "language_info": {
   "codemirror_mode": "r",
   "file_extension": ".r",
   "mimetype": "text/x-r-source",
   "name": "R",
   "pygments_lexer": "r",
   "version": "3.3.2"
  }
 },
 "nbformat": 4,
 "nbformat_minor": 2
}
