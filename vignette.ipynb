{
 "cells": [
  {
   "cell_type": "code",
   "execution_count": 2,
   "metadata": {
    "collapsed": false
   },
   "outputs": [
    {
     "name": "stderr",
     "output_type": "stream",
     "text": [
      "Loading required package: twitteR\n",
      "Loading required package: RSQLite\n",
      "Loading required package: dismo\n",
      "Loading required package: raster\n",
      "Loading required package: sp\n",
      "Loading required package: maps\n",
      "Loading required package: ggplot2\n",
      "Loading required package: XML\n"
     ]
    },
    {
     "name": "stdout",
     "output_type": "stream",
     "text": [
      "[1] \"Using direct authentication\"\n"
     ]
    }
   ],
   "source": [
    "#Packages and authentication\n",
    "require(twitteR)\n",
    "require(RSQLite)\n",
    "require(dismo)\n",
    "require(maps)\n",
    "require(ggplot2)\n",
    "require(XML)\n",
    "\n",
    "\n",
    "con_k<- 'I0z7AKEkEgo2g1DCsRrG6UR9t'\n",
    "con_s<- 'KUHwwrOxbGU74MlayHJyUdttCWqlbTgWLx9XMxuGowhMYZb8Se'\n",
    "acc_tok<- '399497071-qEpvCQC3OxJxflExP8NNGfmqYcLxvrfBFNPHTw4R'\n",
    "acc_s<-'lHSwVVvytEO87w4i2QsaOjiAkKHudRPRJ8tZ84V3Gywen'\n",
    "\n",
    "setup_twitter_oauth(con_k,con_s,acc_tok,acc_s)"
   ]
  },
  {
   "cell_type": "code",
   "execution_count": 3,
   "metadata": {
    "collapsed": false
   },
   "outputs": [
    {
     "name": "stderr",
     "output_type": "stream",
     "text": [
      "Warning message in doRppAPICall(\"search/tweets\", n, params = params, retryOnRateLimit = retryOnRateLimit, :\n",
      "\"50 tweets were requested but the API can only return 2\""
     ]
    },
    {
     "data": {
      "text/plain": [
       "[[1]]\n",
       "[1] \"realDonaldTrump: 'Trump signs bill undoing Obama coal mining rule' https://t.co/yMfT5r5RGh\"\n",
       "\n",
       "[[2]]\n",
       "[1] \"realDonaldTrump: Crimea was TAKEN by Russia during the Obama Administration. Was Obama too soft on Russia?\"\n"
      ]
     },
     "metadata": {},
     "output_type": "display_data"
    },
    {
     "data": {
      "text/plain": [
       "[[1]]\n",
       "[1] \"realDonaldTrump: 'Trump signs bill undoing Obama coal mining rule' https://t.co/yMfT5r5RGh\"\n",
       "\n",
       "[[2]]\n",
       "[1] \"realDonaldTrump: Crimea was TAKEN by Russia during the Obama Administration. Was Obama too soft on Russia?\"\n"
      ]
     },
     "metadata": {},
     "output_type": "display_data"
    }
   ],
   "source": [
    "#Searching Twitter\n",
    "tweets <- searchTwitter('Obama from:realDonaldTrump', n=50)\n",
    "head(tweets)\n",
    "head(strip_retweets(tweets, strip_manual=TRUE, strip_mt=TRUE))\n"
   ]
  },
  {
   "cell_type": "code",
   "execution_count": 4,
   "metadata": {
    "collapsed": false
   },
   "outputs": [
    {
     "data": {
      "text/html": [
       "'45th President of the United States of America'"
      ],
      "text/latex": [
       "'45th President of the United States of America'"
      ],
      "text/markdown": [
       "'45th President of the United States of America'"
      ],
      "text/plain": [
       "[1] \"45th President of the United States of America\""
      ]
     },
     "metadata": {},
     "output_type": "display_data"
    },
    {
     "data": {
      "text/html": [
       "25158485"
      ],
      "text/latex": [
       "25158485"
      ],
      "text/markdown": [
       "25158485"
      ],
      "text/plain": [
       "[1] 25158485"
      ]
     },
     "metadata": {},
     "output_type": "display_data"
    },
    {
     "data": {
      "text/plain": [
       "$`471672239`\n",
       "[1] \"KellyannePolls\"\n",
       "\n",
       "$`20733972`\n",
       "[1] \"Reince\"\n",
       "\n",
       "$`322293052`\n",
       "[1] \"RealRomaDowney\"\n",
       "\n",
       "$`720293443260456960`\n",
       "[1] \"Trump\"\n",
       "\n",
       "$`2325495378`\n",
       "[1] \"TrumpGolf\"\n"
      ]
     },
     "metadata": {},
     "output_type": "display_data"
    },
    {
     "data": {
      "text/plain": [
       "[[1]]\n",
       "[1] \"IvankaTrump: 2016 has been one of the most eventful and exciting years of my life. I wish you peace, joy, love and laughter. Hap",
       " https://t.co/A1I3tvTySZ\"\n",
       "\n",
       "[[2]]\n",
       "[1] \"DonaldJTrumpJr: FINAL PUSH! Eric and I doing dozens of radio interviews. We can win this thing! GET OUT AND VOTE! #MAGA #ElectionDay https://t.co/dYcxRCBQUd\"\n",
       "\n",
       "[[3]]\n",
       "[1] \"DanScavino: INDIANA #TrumpTrain<ed><U+00A0><U+00BD><ed><U+00BA><U+0082><ed><U+00A0><U+00BD><ed><U+00B2><U+00A8><ed><U+00A0><U+00BC><ed><U+00B7><U+00BA><ed><U+00A0><U+00BC><ed><U+00B7><U+00B8><ed><U+00A0><U+00BC><ed><U+00B7><U+00BA><ed><U+00A0><U+00BC><ed><U+00B7><U+00B8>\\ncc: @mike_pence @marc_lotter https://t.co/fxvQ43k2im\"\n",
       "\n",
       "[[4]]\n",
       "[1] \"mike_pence: Congrats to my running mate @realDonaldTrump on a big debate win! Proud to stand with you as we #MAGA.\"\n",
       "\n",
       "[[5]]\n",
       "[1] \"TeamTrump: It's hard to fight terrorism when you're making cash payments to the world's LARGEST state sponsor of TERROR. Under",
       " https://t.co/GPSkdoiiRC\"\n"
      ]
     },
     "metadata": {},
     "output_type": "display_data"
    }
   ],
   "source": [
    "#Looking at users\n",
    "crantastic <- getUser('realDonaldTrump')\n",
    "crantastic$getDescription()\n",
    "crantastic$getFollowersCount()\n",
    "crantastic$getFriends(n=5)\n",
    "crantastic$getFavorites(n=5)\n"
   ]
  },
  {
   "cell_type": "code",
   "execution_count": 5,
   "metadata": {
    "collapsed": false
   },
   "outputs": [
    {
     "data": {
      "text/html": [
       "<table>\n",
       "<thead><tr><th scope=col>text</th><th scope=col>favorited</th><th scope=col>favoriteCount</th><th scope=col>replyToSN</th><th scope=col>created</th><th scope=col>truncated</th><th scope=col>replyToSID</th><th scope=col>id</th><th scope=col>replyToUID</th><th scope=col>statusSource</th><th scope=col>screenName</th><th scope=col>retweetCount</th><th scope=col>isRetweet</th><th scope=col>retweeted</th><th scope=col>longitude</th><th scope=col>latitude</th></tr></thead>\n",
       "<tbody>\n",
       "\t<tr><td>RT @ma_salmon: New #rstats post! A plot against the CatterPlots complot https://t.co/whBvDMOZSK &lt;ed&gt;&lt;U+00A0&gt;&lt;U+00BD&gt;&lt;ed&gt;&lt;U+00B8&gt;&lt;U+00BC&gt; https://t.co/u1Jujl9DCR</td><td>FALSE                                                                                                                                                                                               </td><td>0                                                                                                                                                                                                   </td><td>NA                                                                                                                                                                                                  </td><td>2017-02-18 16:16:51                                                                                                                                                                                 </td><td>FALSE                                                                                                                                                                                               </td><td>NA                                                                                                                                                                                                  </td><td>832987249474170880                                                                                                                                                                                  </td><td>NA                                                                                                                                                                                                  </td><td><span style=white-space:pre-wrap>&lt;a href=\"http://twitter.com/download/iphone\" rel=\"nofollow\"&gt;Twitter for iPhone&lt;/a&gt;  </span>                                                            </td><td><span style=white-space:pre-wrap>cervelle       </span>                                                                                                                                             </td><td>21                                                                                                                                                                                                  </td><td> TRUE                                                                                                                                                                                               </td><td>FALSE                                                                                                                                                                                               </td><td>NA                                                                                                                                                                                                  </td><td>NA                                                                                                                                                                                                  </td></tr>\n",
       "\t<tr><td><span style=white-space:pre-wrap>RT @Rbloggers: A plot against the CatterPlots complot https://t.co/HEe9dfwGpJ #rstats #DataScience                                                              </span></td><td>FALSE                                                                                                                                                                                                   </td><td>0                                                                                                                                                                                                       </td><td>NA                                                                                                                                                                                                      </td><td>2017-02-18 16:15:58                                                                                                                                                                                     </td><td>FALSE                                                                                                                                                                                                   </td><td>NA                                                                                                                                                                                                      </td><td>832987029768118272                                                                                                                                                                                      </td><td>NA                                                                                                                                                                                                      </td><td>&lt;a href=\"http://twitter.com/download/android\" rel=\"nofollow\"&gt;Twitter for Android&lt;/a&gt;                                                                                                        </td><td><span style=white-space:pre-wrap>isai_sg        </span>                                                                                                                                                 </td><td> 6                                                                                                                                                                                                      </td><td> TRUE                                                                                                                                                                                                   </td><td>FALSE                                                                                                                                                                                                   </td><td>NA                                                                                                                                                                                                      </td><td>NA                                                                                                                                                                                                      </td></tr>\n",
       "\t<tr><td><span style=white-space:pre-wrap>RT @Rbloggers: Accessing MSSQL Server with R (RSQLServer with dplyr) https://t.co/u7Yhgg4T6i #rstats #DataScience                                               </span></td><td>FALSE                                                                                                                                                                                                   </td><td>0                                                                                                                                                                                                       </td><td>NA                                                                                                                                                                                                      </td><td>2017-02-18 16:02:36                                                                                                                                                                                     </td><td>FALSE                                                                                                                                                                                                   </td><td>NA                                                                                                                                                                                                      </td><td>832983663562387456                                                                                                                                                                                      </td><td>NA                                                                                                                                                                                                      </td><td>&lt;a href=\"http://twitter.com/download/android\" rel=\"nofollow\"&gt;Twitter for Android&lt;/a&gt;                                                                                                        </td><td>Iftisaragmailc1                                                                                                                                                                                         </td><td> 8                                                                                                                                                                                                      </td><td> TRUE                                                                                                                                                                                                   </td><td>FALSE                                                                                                                                                                                                   </td><td>NA                                                                                                                                                                                                      </td><td>NA                                                                                                                                                                                                      </td></tr>\n",
       "\t<tr><td><span style=white-space:pre-wrap>Heads or Tails? Visualizing Stirling’s Approximation W/ Highcharts https://t.co/4ovWAexoyr #rstats #3rdparty via @aschinchon                                    </span></td><td>FALSE                                                                                                                                                                                                   </td><td>0                                                                                                                                                                                                       </td><td>NA                                                                                                                                                                                                      </td><td>2017-02-18 15:59:06                                                                                                                                                                                     </td><td>FALSE                                                                                                                                                                                                   </td><td>NA                                                                                                                                                                                                      </td><td>832982783324729345                                                                                                                                                                                      </td><td>NA                                                                                                                                                                                                      </td><td><span style=white-space:pre-wrap>&lt;a href=\"https://www.socialjukebox.com\" rel=\"nofollow\"&gt;The Social Jukebox&lt;/a&gt;       </span>                                                                </td><td><span style=white-space:pre-wrap>Highcharts     </span>                                                                                                                                                 </td><td> 0                                                                                                                                                                                                      </td><td>FALSE                                                                                                                                                                                                   </td><td>FALSE                                                                                                                                                                                                   </td><td>NA                                                                                                                                                                                                      </td><td>NA                                                                                                                                                                                                      </td></tr>\n",
       "\t<tr><td><span style=white-space:pre-wrap>I will speak at @sqlnexus about #DataViz with the help of #RStats https://t.co/y1taS2UwqE #sqlnexus                                                             </span></td><td>FALSE                                                                                                                                                                                                   </td><td>0                                                                                                                                                                                                       </td><td>NA                                                                                                                                                                                                      </td><td>2017-02-18 15:58:26                                                                                                                                                                                     </td><td>FALSE                                                                                                                                                                                                   </td><td>NA                                                                                                                                                                                                      </td><td>832982614474645505                                                                                                                                                                                      </td><td>NA                                                                                                                                                                                                      </td><td><span style=white-space:pre-wrap>&lt;a href=\"http://twitter.com\" rel=\"nofollow\"&gt;Twitter Web Client&lt;/a&gt;                  </span>                                                                </td><td><span style=white-space:pre-wrap>MEhrenmueller  </span>                                                                                                                                                 </td><td> 0                                                                                                                                                                                                      </td><td>FALSE                                                                                                                                                                                                   </td><td>FALSE                                                                                                                                                                                                   </td><td>NA                                                                                                                                                                                                      </td><td>NA                                                                                                                                                                                                      </td></tr>\n",
       "\t<tr><td>RT @ma_salmon: New #rstats post! A plot against the CatterPlots complot https://t.co/whBvDMOZSK &lt;ed&gt;&lt;U+00A0&gt;&lt;U+00BD&gt;&lt;ed&gt;&lt;U+00B8&gt;&lt;U+00BC&gt; https://t.co/u1Jujl9DCR</td><td>FALSE                                                                                                                                                                                               </td><td>0                                                                                                                                                                                                   </td><td>NA                                                                                                                                                                                                  </td><td>2017-02-18 15:57:42                                                                                                                                                                                 </td><td>FALSE                                                                                                                                                                                               </td><td>NA                                                                                                                                                                                                  </td><td>832982433205202944                                                                                                                                                                                  </td><td>NA                                                                                                                                                                                                  </td><td>&lt;a href=\"http://twitter.com/download/android\" rel=\"nofollow\"&gt;Twitter for Android&lt;/a&gt;                                                                                                    </td><td><span style=white-space:pre-wrap>JeanManguy     </span>                                                                                                                                             </td><td>21                                                                                                                                                                                                  </td><td> TRUE                                                                                                                                                                                               </td><td>FALSE                                                                                                                                                                                               </td><td>NA                                                                                                                                                                                                  </td><td>NA                                                                                                                                                                                                  </td></tr>\n",
       "</tbody>\n",
       "</table>\n"
      ],
      "text/latex": [
       "\\begin{tabular}{r|llllllllllllllll}\n",
       " text & favorited & favoriteCount & replyToSN & created & truncated & replyToSID & id & replyToUID & statusSource & screenName & retweetCount & isRetweet & retweeted & longitude & latitude\\\\\n",
       "\\hline\n",
       "\t RT @ma\\_salmon: New \\#rstats post! A plot against the CatterPlots complot https://t.co/whBvDMOZSK <ed><U+00A0><U+00BD><ed><U+00B8><U+00BC> https://t.co/u1Jujl9DCR & FALSE                                                                                                                                                                & 0                                                                                                                                                                    & NA                                                                                                                                                                   & 2017-02-18 16:16:51                                                                                                                                                  & FALSE                                                                                                                                                                & NA                                                                                                                                                                   & 832987249474170880                                                                                                                                                   & NA                                                                                                                                                                   & <a href=\"http://twitter.com/download/iphone\" rel=\"nofollow\">Twitter for iPhone</a>                                                                                   & cervelle                                                                                                                                                             & 21                                                                                                                                                                   &  TRUE                                                                                                                                                                & FALSE                                                                                                                                                                & NA                                                                                                                                                                   & NA                                                                                                                                                                  \\\\\n",
       "\t RT @Rbloggers: A plot against the CatterPlots complot https://t.co/HEe9dfwGpJ \\#rstats \\#DataScience                                                               & FALSE                                                                                                                                                                & 0                                                                                                                                                                    & NA                                                                                                                                                                   & 2017-02-18 16:15:58                                                                                                                                                  & FALSE                                                                                                                                                                & NA                                                                                                                                                                   & 832987029768118272                                                                                                                                                   & NA                                                                                                                                                                   & <a href=\"http://twitter.com/download/android\" rel=\"nofollow\">Twitter for Android</a>                                                                                 & isai\\_sg                                                                                                                                                            &  6                                                                                                                                                                   &  TRUE                                                                                                                                                                & FALSE                                                                                                                                                                & NA                                                                                                                                                                   & NA                                                                                                                                                                  \\\\\n",
       "\t RT @Rbloggers: Accessing MSSQL Server with R (RSQLServer with dplyr) https://t.co/u7Yhgg4T6i \\#rstats \\#DataScience                                                & FALSE                                                                                                                                                                & 0                                                                                                                                                                    & NA                                                                                                                                                                   & 2017-02-18 16:02:36                                                                                                                                                  & FALSE                                                                                                                                                                & NA                                                                                                                                                                   & 832983663562387456                                                                                                                                                   & NA                                                                                                                                                                   & <a href=\"http://twitter.com/download/android\" rel=\"nofollow\">Twitter for Android</a>                                                                                 & Iftisaragmailc1                                                                                                                                                      &  8                                                                                                                                                                   &  TRUE                                                                                                                                                                & FALSE                                                                                                                                                                & NA                                                                                                                                                                   & NA                                                                                                                                                                  \\\\\n",
       "\t Heads or Tails? Visualizing Stirling’s Approximation W/ Highcharts https://t.co/4ovWAexoyr \\#rstats \\#3rdparty via @aschinchon                                     & FALSE                                                                                                                                                                & 0                                                                                                                                                                    & NA                                                                                                                                                                   & 2017-02-18 15:59:06                                                                                                                                                  & FALSE                                                                                                                                                                & NA                                                                                                                                                                   & 832982783324729345                                                                                                                                                   & NA                                                                                                                                                                   & <a href=\"https://www.socialjukebox.com\" rel=\"nofollow\">The Social Jukebox</a>                                                                                        & Highcharts                                                                                                                                                           &  0                                                                                                                                                                   & FALSE                                                                                                                                                                & FALSE                                                                                                                                                                & NA                                                                                                                                                                   & NA                                                                                                                                                                  \\\\\n",
       "\t I will speak at @sqlnexus about \\#DataViz with the help of \\#RStats https://t.co/y1taS2UwqE \\#sqlnexus                                                              & FALSE                                                                                                                                                                  & 0                                                                                                                                                                      & NA                                                                                                                                                                     & 2017-02-18 15:58:26                                                                                                                                                    & FALSE                                                                                                                                                                  & NA                                                                                                                                                                     & 832982614474645505                                                                                                                                                     & NA                                                                                                                                                                     & <a href=\"http://twitter.com\" rel=\"nofollow\">Twitter Web Client</a>                                                                                                     & MEhrenmueller                                                                                                                                                          &  0                                                                                                                                                                     & FALSE                                                                                                                                                                  & FALSE                                                                                                                                                                  & NA                                                                                                                                                                     & NA                                                                                                                                                                    \\\\\n",
       "\t RT @ma\\_salmon: New \\#rstats post! A plot against the CatterPlots complot https://t.co/whBvDMOZSK <ed><U+00A0><U+00BD><ed><U+00B8><U+00BC> https://t.co/u1Jujl9DCR & FALSE                                                                                                                                                                & 0                                                                                                                                                                    & NA                                                                                                                                                                   & 2017-02-18 15:57:42                                                                                                                                                  & FALSE                                                                                                                                                                & NA                                                                                                                                                                   & 832982433205202944                                                                                                                                                   & NA                                                                                                                                                                   & <a href=\"http://twitter.com/download/android\" rel=\"nofollow\">Twitter for Android</a>                                                                                 & JeanManguy                                                                                                                                                           & 21                                                                                                                                                                   &  TRUE                                                                                                                                                                & FALSE                                                                                                                                                                & NA                                                                                                                                                                   & NA                                                                                                                                                                  \\\\\n",
       "\\end{tabular}\n"
      ],
      "text/markdown": [
       "\n",
       "text | favorited | favoriteCount | replyToSN | created | truncated | replyToSID | id | replyToUID | statusSource | screenName | retweetCount | isRetweet | retweeted | longitude | latitude | \n",
       "|---|---|---|---|---|---|\n",
       "| RT @ma_salmon: New #rstats post! A plot against the CatterPlots complot https://t.co/whBvDMOZSK <ed><U+00A0><U+00BD><ed><U+00B8><U+00BC> https://t.co/u1Jujl9DCR | FALSE                                                                                                                                                            | 0                                                                                                                                                                | NA                                                                                                                                                               | 2017-02-18 16:16:51                                                                                                                                              | FALSE                                                                                                                                                            | NA                                                                                                                                                               | 832987249474170880                                                                                                                                               | NA                                                                                                                                                               | <a href=\"http://twitter.com/download/iphone\" rel=\"nofollow\">Twitter for iPhone</a>                                                                               | cervelle                                                                                                                                                         | 21                                                                                                                                                               |  TRUE                                                                                                                                                            | FALSE                                                                                                                                                            | NA                                                                                                                                                               | NA                                                                                                                                                               | \n",
       "| RT @Rbloggers: A plot against the CatterPlots complot https://t.co/HEe9dfwGpJ #rstats #DataScience                                                               | FALSE                                                                                                                                                            | 0                                                                                                                                                                | NA                                                                                                                                                               | 2017-02-18 16:15:58                                                                                                                                              | FALSE                                                                                                                                                            | NA                                                                                                                                                               | 832987029768118272                                                                                                                                               | NA                                                                                                                                                               | <a href=\"http://twitter.com/download/android\" rel=\"nofollow\">Twitter for Android</a>                                                                             | isai_sg                                                                                                                                                          |  6                                                                                                                                                               |  TRUE                                                                                                                                                            | FALSE                                                                                                                                                            | NA                                                                                                                                                               | NA                                                                                                                                                               | \n",
       "| RT @Rbloggers: Accessing MSSQL Server with R (RSQLServer with dplyr) https://t.co/u7Yhgg4T6i #rstats #DataScience                                                | FALSE                                                                                                                                                            | 0                                                                                                                                                                | NA                                                                                                                                                               | 2017-02-18 16:02:36                                                                                                                                              | FALSE                                                                                                                                                            | NA                                                                                                                                                               | 832983663562387456                                                                                                                                               | NA                                                                                                                                                               | <a href=\"http://twitter.com/download/android\" rel=\"nofollow\">Twitter for Android</a>                                                                             | Iftisaragmailc1                                                                                                                                                  |  8                                                                                                                                                               |  TRUE                                                                                                                                                            | FALSE                                                                                                                                                            | NA                                                                                                                                                               | NA                                                                                                                                                               | \n",
       "| Heads or Tails? Visualizing Stirling’s Approximation W/ Highcharts https://t.co/4ovWAexoyr #rstats #3rdparty via @aschinchon                                     | FALSE                                                                                                                                                            | 0                                                                                                                                                                | NA                                                                                                                                                               | 2017-02-18 15:59:06                                                                                                                                              | FALSE                                                                                                                                                            | NA                                                                                                                                                               | 832982783324729345                                                                                                                                               | NA                                                                                                                                                               | <a href=\"https://www.socialjukebox.com\" rel=\"nofollow\">The Social Jukebox</a>                                                                                    | Highcharts                                                                                                                                                       |  0                                                                                                                                                               | FALSE                                                                                                                                                            | FALSE                                                                                                                                                            | NA                                                                                                                                                               | NA                                                                                                                                                               | \n",
       "| I will speak at @sqlnexus about #DataViz with the help of #RStats https://t.co/y1taS2UwqE #sqlnexus                                                              | FALSE                                                                                                                                                            | 0                                                                                                                                                                | NA                                                                                                                                                               | 2017-02-18 15:58:26                                                                                                                                              | FALSE                                                                                                                                                            | NA                                                                                                                                                               | 832982614474645505                                                                                                                                               | NA                                                                                                                                                               | <a href=\"http://twitter.com\" rel=\"nofollow\">Twitter Web Client</a>                                                                                               | MEhrenmueller                                                                                                                                                    |  0                                                                                                                                                               | FALSE                                                                                                                                                            | FALSE                                                                                                                                                            | NA                                                                                                                                                               | NA                                                                                                                                                               | \n",
       "| RT @ma_salmon: New #rstats post! A plot against the CatterPlots complot https://t.co/whBvDMOZSK <ed><U+00A0><U+00BD><ed><U+00B8><U+00BC> https://t.co/u1Jujl9DCR | FALSE                                                                                                                                                            | 0                                                                                                                                                                | NA                                                                                                                                                               | 2017-02-18 15:57:42                                                                                                                                              | FALSE                                                                                                                                                            | NA                                                                                                                                                               | 832982433205202944                                                                                                                                               | NA                                                                                                                                                               | <a href=\"http://twitter.com/download/android\" rel=\"nofollow\">Twitter for Android</a>                                                                             | JeanManguy                                                                                                                                                       | 21                                                                                                                                                               |  TRUE                                                                                                                                                            | FALSE                                                                                                                                                            | NA                                                                                                                                                               | NA                                                                                                                                                               | \n",
       "\n",
       "\n"
      ],
      "text/plain": [
       "  text                                                                                                                                                            \n",
       "1 RT @ma_salmon: New #rstats post! A plot against the CatterPlots complot https://t.co/whBvDMOZSK <ed><U+00A0><U+00BD><ed><U+00B8><U+00BC> https://t.co/u1Jujl9DCR\n",
       "2 RT @Rbloggers: A plot against the CatterPlots complot https://t.co/HEe9dfwGpJ #rstats #DataScience                                                              \n",
       "3 RT @Rbloggers: Accessing MSSQL Server with R (RSQLServer with dplyr) https://t.co/u7Yhgg4T6i #rstats #DataScience                                               \n",
       "4 Heads or Tails? Visualizing Stirlings Approximation W/ Highcharts https://t.co/4ovWAexoyr #rstats #3rdparty via @aschinchon                                    \n",
       "5 I will speak at @sqlnexus about #DataViz with the help of #RStats https://t.co/y1taS2UwqE #sqlnexus                                                             \n",
       "6 RT @ma_salmon: New #rstats post! A plot against the CatterPlots complot https://t.co/whBvDMOZSK <ed><U+00A0><U+00BD><ed><U+00B8><U+00BC> https://t.co/u1Jujl9DCR\n",
       "  favorited favoriteCount replyToSN created             truncated replyToSID\n",
       "1 FALSE     0             NA        2017-02-18 16:16:51 FALSE     NA        \n",
       "2 FALSE     0             NA        2017-02-18 16:15:58 FALSE     NA        \n",
       "3 FALSE     0             NA        2017-02-18 16:02:36 FALSE     NA        \n",
       "4 FALSE     0             NA        2017-02-18 15:59:06 FALSE     NA        \n",
       "5 FALSE     0             NA        2017-02-18 15:58:26 FALSE     NA        \n",
       "6 FALSE     0             NA        2017-02-18 15:57:42 FALSE     NA        \n",
       "  id                 replyToUID\n",
       "1 832987249474170880 NA        \n",
       "2 832987029768118272 NA        \n",
       "3 832983663562387456 NA        \n",
       "4 832982783324729345 NA        \n",
       "5 832982614474645505 NA        \n",
       "6 832982433205202944 NA        \n",
       "  statusSource                                                                        \n",
       "1 <a href=\"http://twitter.com/download/iphone\" rel=\"nofollow\">Twitter for iPhone</a>  \n",
       "2 <a href=\"http://twitter.com/download/android\" rel=\"nofollow\">Twitter for Android</a>\n",
       "3 <a href=\"http://twitter.com/download/android\" rel=\"nofollow\">Twitter for Android</a>\n",
       "4 <a href=\"https://www.socialjukebox.com\" rel=\"nofollow\">The Social Jukebox</a>       \n",
       "5 <a href=\"http://twitter.com\" rel=\"nofollow\">Twitter Web Client</a>                  \n",
       "6 <a href=\"http://twitter.com/download/android\" rel=\"nofollow\">Twitter for Android</a>\n",
       "  screenName      retweetCount isRetweet retweeted longitude latitude\n",
       "1 cervelle        21            TRUE     FALSE     NA        NA      \n",
       "2 isai_sg          6            TRUE     FALSE     NA        NA      \n",
       "3 Iftisaragmailc1  8            TRUE     FALSE     NA        NA      \n",
       "4 Highcharts       0           FALSE     FALSE     NA        NA      \n",
       "5 MEhrenmueller    0           FALSE     FALSE     NA        NA      \n",
       "6 JeanManguy      21            TRUE     FALSE     NA        NA      "
      ]
     },
     "metadata": {},
     "output_type": "display_data"
    }
   ],
   "source": [
    "#Conversion to data frames\n",
    "df <- twListToDF(tweets)\n",
    "head(df)"
   ]
  },
  {
   "cell_type": "code",
   "execution_count": 9,
   "metadata": {
    "collapsed": false
   },
   "outputs": [
    {
     "data": {
      "text/html": [
       "TRUE"
      ],
      "text/latex": [
       "TRUE"
      ],
      "text/markdown": [
       "TRUE"
      ],
      "text/plain": [
       "[1] TRUE"
      ]
     },
     "metadata": {},
     "output_type": "display_data"
    },
    {
     "data": {
      "text/plain": [
       "[[1]]\n",
       "[1] \"cervelle: RT @ma_salmon: New #rstats post! A plot against the CatterPlots complot https://t.co/whBvDMOZSK <ed><U+00A0><U+00BD><ed><U+00B8><U+00BC> https://t.co/u1Jujl9DCR\"\n",
       "\n",
       "[[2]]\n",
       "[1] \"isai_sg: RT @Rbloggers: A plot against the CatterPlots complot https://t.co/HEe9dfwGpJ #rstats #DataScience\"\n",
       "\n",
       "[[3]]\n",
       "[1] \"Iftisaragmailc1: RT @Rbloggers: Accessing MSSQL Server with R (RSQLServer with dplyr) https://t.co/u7Yhgg4T6i #rstats #DataScience\"\n",
       "\n",
       "[[4]]\n",
       "[1] \"Highcharts: Heads or Tails? Visualizing Stirlings Approximation W/ Highcharts https://t.co/4ovWAexoyr #rstats #3rdparty via @aschinchon\"\n",
       "\n",
       "[[5]]\n",
       "[1] \"MEhrenmueller: I will speak at @sqlnexus about #DataViz with the help of #RStats https://t.co/y1taS2UwqE #sqlnexus\"\n",
       "\n",
       "[[6]]\n",
       "[1] \"JeanManguy: RT @ma_salmon: New #rstats post! A plot against the CatterPlots complot https://t.co/whBvDMOZSK <ed><U+00A0><U+00BD><ed><U+00B8><U+00BC> https://t.co/u1Jujl9DCR\"\n"
      ]
     },
     "metadata": {},
     "output_type": "display_data"
    }
   ],
   "source": [
    "#Database persistence\n",
    "sql_lite_file = tempfile()\n",
    "register_sqlite_backend(sql_lite_file)\n",
    "store_tweets_db(tweets)\n",
    "from_db = load_tweets_db()\n",
    "head(from_db)"
   ]
  },
  {
   "cell_type": "code",
   "execution_count": 5,
   "metadata": {
    "collapsed": false
   },
   "outputs": [
    {
     "data": {
      "text/plain": [
       "[[1]]\n",
       "[1] \"realDonaldTrump: Getting ready to leave for Melbourne, Florida. See you all soon!\"\n",
       "\n",
       "[[2]]\n",
       "[1] \"realDonaldTrump: Will be having many meetings this weekend at The Southern White House. Big 5:00 P.M. speech in Melbourne, Florida. A lot to talk about!\"\n",
       "\n",
       "[[3]]\n",
       "[1] \"realDonaldTrump: Don't believe the main stream (fake news) media.The White House is running VERY WELL. I inherited a MESS and am in the process of fixing it.\"\n",
       "\n",
       "[[4]]\n",
       "[1] \"realDonaldTrump: Looking forward to the Florida rally tomorrow. Big crowd expected!\"\n",
       "\n",
       "[[5]]\n",
       "[1] \"realDonaldTrump: \\\"One of the most effective press conferences I've ever seen!\\\" says Rush Limbaugh. Many agree.Yet FAKE MEDIA  calls it differently! Dishonest\"\n"
      ]
     },
     "metadata": {},
     "output_type": "display_data"
    },
    {
     "data": {
      "text/html": [
       "99"
      ],
      "text/latex": [
       "99"
      ],
      "text/markdown": [
       "99"
      ],
      "text/plain": [
       "[1] 99"
      ]
     },
     "metadata": {},
     "output_type": "display_data"
    }
   ],
   "source": [
    "#Timelines\n",
    "cran_tweets <- userTimeline('realDonaldTrump')\n",
    "cran_tweets[1:5]\n",
    "cran_tweets_large <- userTimeline('realDonaldTrump', n=100)\n",
    "length(cran_tweets_large)"
   ]
  },
  {
   "cell_type": "code",
   "execution_count": 8,
   "metadata": {
    "collapsed": false
   },
   "outputs": [
    {
     "data": {
      "text/html": [
       "<table>\n",
       "<thead><tr><th scope=col>name</th><th scope=col>country</th><th scope=col>woeid</th></tr></thead>\n",
       "<tbody>\n",
       "\t<tr><td>Worldwide</td><td>         </td><td>1        </td></tr>\n",
       "\t<tr><td>Winnipeg </td><td>Canada   </td><td>2972     </td></tr>\n",
       "\t<tr><td>Ottawa   </td><td>Canada   </td><td>3369     </td></tr>\n",
       "\t<tr><td>Quebec   </td><td>Canada   </td><td>3444     </td></tr>\n",
       "\t<tr><td>Montreal </td><td>Canada   </td><td>3534     </td></tr>\n",
       "\t<tr><td>Toronto  </td><td>Canada   </td><td>4118     </td></tr>\n",
       "</tbody>\n",
       "</table>\n"
      ],
      "text/latex": [
       "\\begin{tabular}{r|lll}\n",
       " name & country & woeid\\\\\n",
       "\\hline\n",
       "\t Worldwide &           & 1        \\\\\n",
       "\t Winnipeg  & Canada    & 2972     \\\\\n",
       "\t Ottawa    & Canada    & 3369     \\\\\n",
       "\t Quebec    & Canada    & 3444     \\\\\n",
       "\t Montreal  & Canada    & 3534     \\\\\n",
       "\t Toronto   & Canada    & 4118     \\\\\n",
       "\\end{tabular}\n"
      ],
      "text/markdown": [
       "\n",
       "name | country | woeid | \n",
       "|---|---|---|---|---|---|\n",
       "| Worldwide |           | 1         | \n",
       "| Winnipeg  | Canada    | 2972      | \n",
       "| Ottawa    | Canada    | 3369      | \n",
       "| Quebec    | Canada    | 3444      | \n",
       "| Montreal  | Canada    | 3534      | \n",
       "| Toronto   | Canada    | 4118      | \n",
       "\n",
       "\n"
      ],
      "text/plain": [
       "  name      country woeid\n",
       "1 Worldwide         1    \n",
       "2 Winnipeg  Canada  2972 \n",
       "3 Ottawa    Canada  3369 \n",
       "4 Quebec    Canada  3444 \n",
       "5 Montreal  Canada  3534 \n",
       "6 Toronto   Canada  4118 "
      ]
     },
     "metadata": {},
     "output_type": "display_data"
    },
    {
     "data": {
      "text/html": [
       "<table>\n",
       "<thead><tr><th scope=col>name</th><th scope=col>country</th><th scope=col>woeid</th></tr></thead>\n",
       "<tbody>\n",
       "\t<tr><td>Salvador</td><td>Brazil  </td><td>455826  </td></tr>\n",
       "</tbody>\n",
       "</table>\n"
      ],
      "text/latex": [
       "\\begin{tabular}{r|lll}\n",
       " name & country & woeid\\\\\n",
       "\\hline\n",
       "\t Salvador & Brazil   & 455826  \\\\\n",
       "\\end{tabular}\n"
      ],
      "text/markdown": [
       "\n",
       "name | country | woeid | \n",
       "|---|\n",
       "| Salvador | Brazil   | 455826   | \n",
       "\n",
       "\n"
      ],
      "text/plain": [
       "  name     country woeid \n",
       "1 Salvador Brazil  455826"
      ]
     },
     "metadata": {},
     "output_type": "display_data"
    },
    {
     "data": {
      "text/html": [
       "<table>\n",
       "<thead><tr><th scope=col>name</th><th scope=col>url</th><th scope=col>query</th><th scope=col>woeid</th></tr></thead>\n",
       "<tbody>\n",
       "\t<tr><td>#TrumpRally                                        </td><td>http://twitter.com/search?q=%23TrumpRally          </td><td>%23TrumpRally                                      </td><td>3444                                               </td></tr>\n",
       "\t<tr><td>2018 Memorial Cup                                  </td><td>http://twitter.com/search?q=%222018+Memorial+Cup%22</td><td>%222018+Memorial+Cup%22                            </td><td>3444                                               </td></tr>\n",
       "\t<tr><td>#endirectdelunivers                                </td><td>http://twitter.com/search?q=%23endirectdelunivers  </td><td>%23endirectdelunivers                              </td><td>3444                                               </td></tr>\n",
       "\t<tr><td>#NationalDrinkWineDay                              </td><td>http://twitter.com/search?q=%23NationalDrinkWineDay</td><td>%23NationalDrinkWineDay                            </td><td>3444                                               </td></tr>\n",
       "\t<tr><td>#MissBiopharma17                                   </td><td>http://twitter.com/search?q=%23MissBiopharma17     </td><td>%23MissBiopharma17                                 </td><td>3444                                               </td></tr>\n",
       "\t<tr><td>Fedor                                              </td><td>http://twitter.com/search?q=Fedor                  </td><td>Fedor                                              </td><td>3444                                               </td></tr>\n",
       "</tbody>\n",
       "</table>\n"
      ],
      "text/latex": [
       "\\begin{tabular}{r|llll}\n",
       " name & url & query & woeid\\\\\n",
       "\\hline\n",
       "\t \\#TrumpRally                                         & http://twitter.com/search?q=\\%23TrumpRally           & \\%23TrumpRally                                       & 3444                                                 \\\\\n",
       "\t 2018 Memorial Cup                                       & http://twitter.com/search?q=\\%222018+Memorial+Cup\\%22 & \\%222018+Memorial+Cup\\%22                             & 3444                                                   \\\\\n",
       "\t \\#endirectdelunivers                                 & http://twitter.com/search?q=\\%23endirectdelunivers   & \\%23endirectdelunivers                               & 3444                                                 \\\\\n",
       "\t \\#NationalDrinkWineDay                               & http://twitter.com/search?q=\\%23NationalDrinkWineDay & \\%23NationalDrinkWineDay                             & 3444                                                 \\\\\n",
       "\t \\#MissBiopharma17                                    & http://twitter.com/search?q=\\%23MissBiopharma17      & \\%23MissBiopharma17                                  & 3444                                                 \\\\\n",
       "\t Fedor                                               & http://twitter.com/search?q=Fedor                   & Fedor                                               & 3444                                               \\\\\n",
       "\\end{tabular}\n"
      ],
      "text/markdown": [
       "\n",
       "name | url | query | woeid | \n",
       "|---|---|---|---|---|---|\n",
       "| #TrumpRally                                         | http://twitter.com/search?q=%23TrumpRally           | %23TrumpRally                                       | 3444                                                | \n",
       "| 2018 Memorial Cup                                   | http://twitter.com/search?q=%222018+Memorial+Cup%22 | %222018+Memorial+Cup%22                             | 3444                                                | \n",
       "| #endirectdelunivers                                 | http://twitter.com/search?q=%23endirectdelunivers   | %23endirectdelunivers                               | 3444                                                | \n",
       "| #NationalDrinkWineDay                               | http://twitter.com/search?q=%23NationalDrinkWineDay | %23NationalDrinkWineDay                             | 3444                                                | \n",
       "| #MissBiopharma17                                    | http://twitter.com/search?q=%23MissBiopharma17      | %23MissBiopharma17                                  | 3444                                                | \n",
       "| Fedor                                               | http://twitter.com/search?q=Fedor                   | Fedor                                               | 3444                                                | \n",
       "\n",
       "\n"
      ],
      "text/plain": [
       "  name                  url                                                \n",
       "1 #TrumpRally           http://twitter.com/search?q=%23TrumpRally          \n",
       "2 2018 Memorial Cup     http://twitter.com/search?q=%222018+Memorial+Cup%22\n",
       "3 #endirectdelunivers   http://twitter.com/search?q=%23endirectdelunivers  \n",
       "4 #NationalDrinkWineDay http://twitter.com/search?q=%23NationalDrinkWineDay\n",
       "5 #MissBiopharma17      http://twitter.com/search?q=%23MissBiopharma17     \n",
       "6 Fedor                 http://twitter.com/search?q=Fedor                  \n",
       "  query                   woeid\n",
       "1 %23TrumpRally           3444 \n",
       "2 %222018+Memorial+Cup%22 3444 \n",
       "3 %23endirectdelunivers   3444 \n",
       "4 %23NationalDrinkWineDay 3444 \n",
       "5 %23MissBiopharma17      3444 \n",
       "6 Fedor                   3444 "
      ]
     },
     "metadata": {},
     "output_type": "display_data"
    }
   ],
   "source": [
    "#Trends\n",
    "avail_trends = availableTrendLocations()\n",
    "head(avail_trends)\n",
    "close_trends = closestTrendLocations(-12.8, -41.1)\n",
    "head(close_trends)\n",
    "trends = getTrends(3444)\n",
    "head(trends)"
   ]
  },
  {
   "cell_type": "code",
   "execution_count": 9,
   "metadata": {
    "collapsed": false
   },
   "outputs": [
    {
     "data": {
      "image/png": "[encoded data removed]",
      "text/plain": [
       "plot without title"
      ]
     },
     "metadata": {},
     "output_type": "display_data"
    }
   ],
   "source": [
    "#simple example\n",
    "r_tweets <- searchTwitter(\"Obama\", n=300)\n",
    "sources <- sapply(r_tweets, function(x) x$getStatusSource())\n",
    "sources <- gsub(\"</a>\", \"\", sources)\n",
    "sources <- strsplit(sources, \">\")\n",
    "sources <- sapply(sources, function(x) ifelse(length(x) > 1, x[2], x[1]))\n",
    "source_table = table(sources)\n",
    "pie(source_table[source_table > 10])"
   ]
  },
  {
   "cell_type": "code",
   "execution_count": null,
   "metadata": {
    "collapsed": true
   },
   "outputs": [],
   "source": []
  }
 ],
 "metadata": {
  "kernelspec": {
   "display_name": "R",
   "language": "R",
   "name": "ir"
  },
  "language_info": {
   "codemirror_mode": "r",
   "file_extension": ".r",
   "mimetype": "text/x-r-source",
   "name": "R",
   "pygments_lexer": "r",
   "version": "3.3.2"
  }
 },
 "nbformat": 4,
 "nbformat_minor": 2
}
